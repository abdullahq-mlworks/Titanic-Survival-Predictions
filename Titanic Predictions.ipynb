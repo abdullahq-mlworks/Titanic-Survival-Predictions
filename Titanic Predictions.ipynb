{
 "cells": [
  {
   "cell_type": "markdown",
   "id": "7d103802",
   "metadata": {},
   "source": [
    "*Project 2:* Titanic Survival Prediction using Logistic Regression\n",
    "\n",
    "  * Use Titanic dataset\n",
    "  * Preprocess: handle missing values, convert categorical to numeric\n",
    "  * Train logistic model & evaluate performance\n"
   ]
  },
  {
   "cell_type": "markdown",
   "id": "489211a3",
   "metadata": {},
   "source": [
    "Use Titanic dataset"
   ]
  },
  {
   "cell_type": "code",
   "execution_count": 1,
   "id": "d779c118",
   "metadata": {},
   "outputs": [],
   "source": [
    "import seaborn as sns\n",
    "from sklearn.model_selection import train_test_split\n",
    "from sklearn.linear_model import LogisticRegression\n",
    "from sklearn.metrics import accuracy_score\n",
    "\n",
    "titanic= sns.load_dataset(\"titanic\")"
   ]
  },
  {
   "cell_type": "markdown",
   "id": "12d37afa",
   "metadata": {},
   "source": [
    "Preprocess: handle missing values, convert categorical to numeric"
   ]
  },
  {
   "cell_type": "code",
   "execution_count": 2,
   "id": "68fb8176",
   "metadata": {},
   "outputs": [],
   "source": [
    "# Select features from dataset\n",
    "features = ['pclass', 'sex', 'age', 'sibsp', 'parch', 'fare']\n",
    "target = ['survived']\n",
    "\n",
    "# Drop rows with missing values\n",
    "titanic[\"age\"] = titanic[\"age\"].fillna(titanic[\"age\"].median())\n",
    "titanic[\"fare\"] = titanic[\"fare\"].fillna(titanic[\"fare\"].median())\n",
    "\n",
    "# Convert \"sex\" into numeric, because all selected features are linear\n",
    "titanic[\"sex\"] = titanic[\"sex\"].map({\"male\": 0, \"female\": 1})\n",
    "\n",
    "# Split features and target\n",
    "X = titanic[features]\n",
    "y = titanic[target].values.ravel() # to convert into 1D to smooth output"
   ]
  },
  {
   "cell_type": "markdown",
   "id": "f36655d2",
   "metadata": {},
   "source": [
    "Train logistic model & evaluate performance"
   ]
  },
  {
   "cell_type": "code",
   "execution_count": 3,
   "id": "0116772f",
   "metadata": {},
   "outputs": [
    {
     "name": "stdout",
     "output_type": "stream",
     "text": [
      "Accuracy:  0.8100558659217877\n"
     ]
    }
   ],
   "source": [
    "# train and test\n",
    "X_train, X_test, y_train, y_test= train_test_split(X, y, test_size=0.2, random_state=42)\n",
    "# model selection\n",
    "model= LogisticRegression()\n",
    "model.fit(X_train, y_train)\n",
    "# Prediction\n",
    "predictions= model.predict(X_test)\n",
    "# Accuracy\n",
    "accuracy= accuracy_score(y_test, predictions)\n",
    "print(\"Accuracy: \",accuracy)"
   ]
  },
  {
   "cell_type": "markdown",
   "id": "762c62e8",
   "metadata": {},
   "source": [
    "optional"
   ]
  },
  {
   "cell_type": "code",
   "execution_count": 4,
   "id": "649d89ca",
   "metadata": {},
   "outputs": [
    {
     "name": "stdout",
     "output_type": "stream",
     "text": [
      "Confusion matrix:  [[92 13]\n",
      " [21 53]]\n",
      "Classification report:                precision    recall  f1-score   support\n",
      "\n",
      "           0       0.81      0.88      0.84       105\n",
      "           1       0.80      0.72      0.76        74\n",
      "\n",
      "    accuracy                           0.81       179\n",
      "   macro avg       0.81      0.80      0.80       179\n",
      "weighted avg       0.81      0.81      0.81       179\n",
      "\n"
     ]
    }
   ],
   "source": [
    "from sklearn.metrics import confusion_matrix, classification_report\n",
    "\n",
    "# Confusion matrix ek matrix bnata ha :\n",
    "#         Pred:0   Pred:1\n",
    "# Act:0     92      13\n",
    "# Act:1     21      53\n",
    "cm= confusion_matrix(y_test, predictions)\n",
    "print(\"Confusion matrix: \",cm)\n",
    "\n",
    "cr= classification_report(y_test, predictions)\n",
    "print(\"Classification report: \",cr)\n"
   ]
  }
 ],
 "metadata": {
  "kernelspec": {
   "display_name": ".venv",
   "language": "python",
   "name": "python3"
  },
  "language_info": {
   "codemirror_mode": {
    "name": "ipython",
    "version": 3
   },
   "file_extension": ".py",
   "mimetype": "text/x-python",
   "name": "python",
   "nbconvert_exporter": "python",
   "pygments_lexer": "ipython3",
   "version": "3.12.6"
  }
 },
 "nbformat": 4,
 "nbformat_minor": 5
}
